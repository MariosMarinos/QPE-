{
 "cells": [
  {
   "cell_type": "code",
   "execution_count": 1,
   "metadata": {
    "colab": {
     "base_uri": "https://localhost:8080/",
     "height": 105
    },
    "id": "XmyXB4ffyeKr",
    "outputId": "5b66e2bd-9239-47d4-c072-80dc1b4a38f9"
   },
   "outputs": [
    {
     "ename": "ModuleNotFoundError",
     "evalue": "No module named 'imblearn'",
     "output_type": "error",
     "traceback": [
      "\u001b[0;31m---------------------------------------------------------------------------\u001b[0m",
      "\u001b[0;31mModuleNotFoundError\u001b[0m                       Traceback (most recent call last)",
      "\u001b[0;32m<ipython-input-1-b04872b3fd18>\u001b[0m in \u001b[0;36m<module>\u001b[0;34m\u001b[0m\n\u001b[1;32m      7\u001b[0m \u001b[0;32mfrom\u001b[0m \u001b[0msklearn\u001b[0m\u001b[0;34m.\u001b[0m\u001b[0mneural_network\u001b[0m \u001b[0;32mimport\u001b[0m \u001b[0mMLPClassifier\u001b[0m\u001b[0;34m\u001b[0m\u001b[0;34m\u001b[0m\u001b[0m\n\u001b[1;32m      8\u001b[0m \u001b[0;34m\u001b[0m\u001b[0m\n\u001b[0;32m----> 9\u001b[0;31m \u001b[0;32mfrom\u001b[0m \u001b[0mimblearn\u001b[0m \u001b[0;32mimport\u001b[0m \u001b[0mover_sampling\u001b[0m \u001b[0;31m# provides several resampling techniques to cope with unbalanced datasets (https://github.com/scikit-learn-contrib/imbalanced-learn) compatible with sklearn\u001b[0m\u001b[0;34m\u001b[0m\u001b[0;34m\u001b[0m\u001b[0m\n\u001b[0m\u001b[1;32m     10\u001b[0m \u001b[0;34m\u001b[0m\u001b[0m\n\u001b[1;32m     11\u001b[0m \u001b[0;32mfrom\u001b[0m \u001b[0mcollections\u001b[0m \u001b[0;32mimport\u001b[0m \u001b[0mCounter\u001b[0m\u001b[0;34m\u001b[0m\u001b[0;34m\u001b[0m\u001b[0m\n",
      "\u001b[0;31mModuleNotFoundError\u001b[0m: No module named 'imblearn'"
     ]
    }
   ],
   "source": [
    "import time\n",
    "\n",
    "import pandas as pd # used to load the data\n",
    "import numpy as np # optimized numerical library\n",
    "\n",
    "from sklearn import preprocessing, metrics, utils, decomposition, model_selection, linear_model, discriminant_analysis, svm, tree, ensemble # library providing several ML algorithms and related utility\n",
    "from sklearn.neural_network import MLPClassifier\n",
    "\n",
    "from imblearn import over_sampling # provides several resampling techniques to cope with unbalanced datasets (https://github.com/scikit-learn-contrib/imbalanced-learn) compatible with sklearn\n",
    "\n",
    "from collections import Counter\n",
    "\n",
    "import matplotlib.pyplot as plt # used for plotting\n",
    "\n",
    "# Start by defining three helper functions:\n",
    "# - one to plot the sample distribution  acorss the class labels (to see how un-/balanced the dataset is)\n",
    "# - one to compute and plot the confusion matrix\n",
    "# - one to plot data in 2D with different colors per class label\n",
    "\n",
    "def plot_pie(y, labels, title=\"\"):\n",
    "    target_stats = Counter(y)\n",
    "    sizes = list(target_stats.values())\n",
    "    explode = tuple([0.1] * len(target_stats))\n",
    "\n",
    "    fig, ax = plt.subplots()\n",
    "    ax.set_title(title + \" (size: %d)\" % len(y))\n",
    "    ax.pie(sizes, explode=explode, labels=target_stats.keys(), shadow=True, autopct='%1.1f%%')\n",
    "    ax.axis('equal')\n",
    "\n",
    "\n",
    "def compute_and_plot_cm(ytest, ypred, labels, title=\"\"):\n",
    "    global nfigure\n",
    "    # Compute confusion matrix\n",
    "    cm = metrics.confusion_matrix(ytest, ypred)\n",
    "    \n",
    "    accuracy = metrics.accuracy_score(ytest, ypred, normalize=True)\n",
    "\n",
    "    # Normalize the matrix\n",
    "    cm = cm.astype('float') / cm.sum(axis=1)[:, np.newaxis]\n",
    "\n",
    "    print(cm)\n",
    "\n",
    "    # Plot the confusion matrix\n",
    "\n",
    "    nfigure = nfigure + 1\n",
    "    plt.figure(nfigure) # new numbered figure\n",
    "    plt.imshow(cm, interpolation='nearest', cmap=plt.cm.Blues) # plot the confusionmatrix using blue shaded colors\n",
    "    plt.title(\"Confusion Matrix Normalized (%s) Accuracy: %.1f%%\" % (title, accuracy*100)) # add title\n",
    "    plt.colorbar() # plot the color bar as legend\n",
    "\n",
    "    # Plot the x and y ticks using the class label names\n",
    "    tick_marks = np.arange(len(labels))\n",
    "    plt.xticks(tick_marks, labels, rotation=45)\n",
    "    plt.yticks(tick_marks, labels)\n",
    "\n",
    "\n",
    "def plot_2d(xpred, ypred, labels, title=\"\"):\n",
    "    global nfigure\n",
    "    # define the colors to use for each class label\n",
    "    colors = ['red', 'blue', 'green', 'yellow', 'black']\n",
    "    len_colors = len(colors)\n",
    "    if len_colors < len(labels):\n",
    "        print(\"WARNING: we have less colors than classes: some classes will reuse the same color\")\n",
    "\n",
    "    nfigure = nfigure + 1\n",
    "    plt.figure(nfigure) # new numbered figure\n",
    "    plt.title(\"Feature Space (%s)\" % title) # add title\n",
    "\n",
    "\n",
    "    # plot each class label with a separate color \n",
    "    for c in range(len(labels)):\n",
    "        cur_class = (ypred == c) # get all points belonging to class c\n",
    "        plt.plot(xpred[cur_class, 0], xpred[cur_class, 1], 'o', color=colors[c % len_colors]) # plot class c\n",
    "\n",
    "\n",
    "nfigure = 0 #used to number the figures"
   ]
  },
  {
   "cell_type": "markdown",
   "metadata": {
    "id": "_whxJ_N_yeKu"
   },
   "source": [
    "# 1. Loading the data"
   ]
  },
  {
   "cell_type": "code",
   "execution_count": 2,
   "metadata": {
    "colab": {
     "base_uri": "https://localhost:8080/",
     "height": 85
    },
    "id": "akrogR6tyeKv",
    "outputId": "5fbd08b6-9911-4829-87ef-78d099a0d372"
   },
   "outputs": [
    {
     "name": "stdout",
     "output_type": "stream",
     "text": [
      "train data shape: (82500, 115)\n",
      "train label shape: (82500,)\n",
      "test data shape: (27500, 115)\n",
      "test label shape: (27500,)\n"
     ]
    }
   ],
   "source": [
    "################ Load data ####################\n",
    "# Get the dataset loaded \n",
    "file =  open(\"thermostat-train-data.txt\",\"r\")\n",
    "train_x =  np.loadtxt(file)\n",
    "print(\"train data shape:\", train_x.shape)\n",
    "file =  open(\"thermostat-train-labels.txt\",\"r\")\n",
    "train_y =  np.loadtxt(file)\n",
    "print(\"train label shape:\", train_y.shape)\n",
    "file =  open(\"thermostat-test-data.txt\",\"r\")\n",
    "test_x =  np.loadtxt(file)\n",
    "print(\"test data shape:\", test_x.shape)\n",
    "file =  open(\"thermostat-test-labels.txt\",\"r\")\n",
    "test_y =  np.loadtxt(file)\n",
    "print(\"test label shape:\", test_y.shape)"
   ]
  },
  {
   "cell_type": "markdown",
   "metadata": {
    "id": "lePQJzNDyeKx"
   },
   "source": [
    "### Lets make the data balance: over_sampling.SMOTE"
   ]
  },
  {
   "cell_type": "code",
   "execution_count": 5,
   "metadata": {
    "colab": {
     "base_uri": "https://localhost:8080/",
     "height": 1000
    },
    "id": "xybfSCjAyeKy",
    "outputId": "1fb35940-0f97-4c6b-e39d-67477d932990"
   },
   "outputs": [
    {
     "name": "stderr",
     "output_type": "stream",
     "text": [
      "/usr/local/lib/python3.6/dist-packages/sklearn/utils/deprecation.py:87: FutureWarning: Function safe_indexing is deprecated; safe_indexing is deprecated in version 0.22 and will be removed in version 0.24.\n",
      "  warnings.warn(msg, category=FutureWarning)\n",
      "/usr/local/lib/python3.6/dist-packages/sklearn/utils/deprecation.py:87: FutureWarning: Function safe_indexing is deprecated; safe_indexing is deprecated in version 0.22 and will be removed in version 0.24.\n",
      "  warnings.warn(msg, category=FutureWarning)\n",
      "/usr/local/lib/python3.6/dist-packages/sklearn/utils/deprecation.py:87: FutureWarning: Function safe_indexing is deprecated; safe_indexing is deprecated in version 0.22 and will be removed in version 0.24.\n",
      "  warnings.warn(msg, category=FutureWarning)\n",
      "/usr/local/lib/python3.6/dist-packages/sklearn/utils/deprecation.py:87: FutureWarning: Function safe_indexing is deprecated; safe_indexing is deprecated in version 0.22 and will be removed in version 0.24.\n",
      "  warnings.warn(msg, category=FutureWarning)\n",
      "/usr/local/lib/python3.6/dist-packages/sklearn/utils/deprecation.py:87: FutureWarning: Function safe_indexing is deprecated; safe_indexing is deprecated in version 0.22 and will be removed in version 0.24.\n",
      "  warnings.warn(msg, category=FutureWarning)\n",
      "/usr/local/lib/python3.6/dist-packages/sklearn/utils/deprecation.py:87: FutureWarning: Function safe_indexing is deprecated; safe_indexing is deprecated in version 0.22 and will be removed in version 0.24.\n",
      "  warnings.warn(msg, category=FutureWarning)\n",
      "/usr/local/lib/python3.6/dist-packages/sklearn/utils/deprecation.py:87: FutureWarning: Function safe_indexing is deprecated; safe_indexing is deprecated in version 0.22 and will be removed in version 0.24.\n",
      "  warnings.warn(msg, category=FutureWarning)\n",
      "/usr/local/lib/python3.6/dist-packages/sklearn/utils/deprecation.py:87: FutureWarning: Function safe_indexing is deprecated; safe_indexing is deprecated in version 0.22 and will be removed in version 0.24.\n",
      "  warnings.warn(msg, category=FutureWarning)\n",
      "/usr/local/lib/python3.6/dist-packages/sklearn/utils/deprecation.py:87: FutureWarning: Function safe_indexing is deprecated; safe_indexing is deprecated in version 0.22 and will be removed in version 0.24.\n",
      "  warnings.warn(msg, category=FutureWarning)\n",
      "/usr/local/lib/python3.6/dist-packages/sklearn/utils/deprecation.py:87: FutureWarning: Function safe_indexing is deprecated; safe_indexing is deprecated in version 0.22 and will be removed in version 0.24.\n",
      "  warnings.warn(msg, category=FutureWarning)\n",
      "/usr/local/lib/python3.6/dist-packages/sklearn/utils/deprecation.py:87: FutureWarning: Function safe_indexing is deprecated; safe_indexing is deprecated in version 0.22 and will be removed in version 0.24.\n",
      "  warnings.warn(msg, category=FutureWarning)\n",
      "/usr/local/lib/python3.6/dist-packages/sklearn/utils/deprecation.py:87: FutureWarning: Function safe_indexing is deprecated; safe_indexing is deprecated in version 0.22 and will be removed in version 0.24.\n",
      "  warnings.warn(msg, category=FutureWarning)\n",
      "/usr/local/lib/python3.6/dist-packages/sklearn/utils/deprecation.py:87: FutureWarning: Function safe_indexing is deprecated; safe_indexing is deprecated in version 0.22 and will be removed in version 0.24.\n",
      "  warnings.warn(msg, category=FutureWarning)\n",
      "/usr/local/lib/python3.6/dist-packages/sklearn/utils/deprecation.py:87: FutureWarning: Function safe_indexing is deprecated; safe_indexing is deprecated in version 0.22 and will be removed in version 0.24.\n",
      "  warnings.warn(msg, category=FutureWarning)\n",
      "/usr/local/lib/python3.6/dist-packages/sklearn/utils/deprecation.py:87: FutureWarning: Function safe_indexing is deprecated; safe_indexing is deprecated in version 0.22 and will be removed in version 0.24.\n",
      "  warnings.warn(msg, category=FutureWarning)\n",
      "/usr/local/lib/python3.6/dist-packages/sklearn/utils/deprecation.py:87: FutureWarning: Function safe_indexing is deprecated; safe_indexing is deprecated in version 0.22 and will be removed in version 0.24.\n",
      "  warnings.warn(msg, category=FutureWarning)\n",
      "/usr/local/lib/python3.6/dist-packages/sklearn/utils/deprecation.py:87: FutureWarning: Function safe_indexing is deprecated; safe_indexing is deprecated in version 0.22 and will be removed in version 0.24.\n",
      "  warnings.warn(msg, category=FutureWarning)\n",
      "/usr/local/lib/python3.6/dist-packages/sklearn/utils/deprecation.py:87: FutureWarning: Function safe_indexing is deprecated; safe_indexing is deprecated in version 0.22 and will be removed in version 0.24.\n",
      "  warnings.warn(msg, category=FutureWarning)\n",
      "/usr/local/lib/python3.6/dist-packages/sklearn/utils/deprecation.py:87: FutureWarning: Function safe_indexing is deprecated; safe_indexing is deprecated in version 0.22 and will be removed in version 0.24.\n",
      "  warnings.warn(msg, category=FutureWarning)\n",
      "/usr/local/lib/python3.6/dist-packages/sklearn/utils/deprecation.py:87: FutureWarning: Function safe_indexing is deprecated; safe_indexing is deprecated in version 0.22 and will be removed in version 0.24.\n",
      "  warnings.warn(msg, category=FutureWarning)\n"
     ]
    },
    {
     "data": {
      "image/png": "[encoded data removed]",
      "text/plain": [
       "<Figure size 432x288 with 1 Axes>"
      ]
     },
     "metadata": {
      "tags": []
     },
     "output_type": "display_data"
    },
    {
     "data": {
      "image/png": "[encoded data removed]",
      "text/plain": [
       "<Figure size 432x288 with 1 Axes>"
      ]
     },
     "metadata": {
      "tags": []
     },
     "output_type": "display_data"
    }
   ],
   "source": [
    "################ Resample data #################\n",
    "\n",
    "# If the data is very skewed, try to balance the dataset\n",
    "sm = over_sampling.SMOTE(random_state=42, ratio=\"auto\")\n",
    "train_x, train_y = sm.fit_sample(train_x, train_y)\n",
    "data_class_labels = np.unique(train_y)\n",
    "\n",
    "# Plot the balanced label distribution\n",
    "plot_pie(train_y, data_class_labels, \"Balanced\")\n",
    "\n",
    "# Do the same for test\n",
    "sm = over_sampling.SMOTE(random_state=42, ratio=\"auto\")\n",
    "test_x, test_y = sm.fit_sample(test_x, test_y)\n",
    "data_class_test = np.unique(test_y)\n",
    "\n",
    "\n",
    "#Do the same for test\n",
    "plot_pie(test_y, data_class_test, \"Test Data\")"
   ]
  },
  {
   "cell_type": "markdown",
   "metadata": {
    "id": "u8QMzlWNyeK1"
   },
   "source": [
    "# 2. Preparing the data"
   ]
  },
  {
   "cell_type": "markdown",
   "metadata": {
    "id": "2IY2Sh8LyeK1"
   },
   "source": [
    "### Standardize the data"
   ]
  },
  {
   "cell_type": "code",
   "execution_count": 6,
   "metadata": {
    "id": "bGiHosrKyeK2"
   },
   "outputs": [],
   "source": [
    "################ Scale data ####################\n",
    "# Train a scaler to standardize the features (zero mean and unit variance)\n",
    "from sklearn.preprocessing import StandardScaler\n",
    "scaler = StandardScaler()\n",
    "# fit the data to find scale them and then trasnform them.\n",
    "scaler.fit(train_x)\n",
    "X_train_scaled = scaler.transform(train_x)\n",
    "# Same for X_test.\n",
    "scaler.fit(test_x)\n",
    "X_test_scaled = scaler.transform(test_x)\n"
   ]
  },
  {
   "cell_type": "code",
   "execution_count": 7,
   "metadata": {
    "colab": {
     "base_uri": "https://localhost:8080/",
     "height": 34
    },
    "id": "wnKjxRH8FS4V",
    "outputId": "a26a8e24-03b8-4865-d0a9-6dd7cc10b780"
   },
   "outputs": [
    {
     "data": {
      "text/plain": [
       "(83446, 115)"
      ]
     },
     "execution_count": 7,
     "metadata": {
      "tags": []
     },
     "output_type": "execute_result"
    }
   ],
   "source": [
    "X_train_scaled.shape"
   ]
  },
  {
   "cell_type": "markdown",
   "metadata": {
    "id": "x73IfqN3yeK4"
   },
   "source": [
    "### Finding the 2 principle components (Bonus)"
   ]
  },
  {
   "cell_type": "code",
   "execution_count": 17,
   "metadata": {
    "id": "XYMPorKcyeK5"
   },
   "outputs": [],
   "source": [
    "################ PCA ####################\n",
    "# Train a PCA with 2 dimensions\n",
    "pca = decomposition.PCA(n_components=2)\n",
    "\n",
    "X_train_scaled_pca = pca.fit(train_x).transform(train_x)\n",
    "\n",
    "\n",
    "X_test_scaled_pca = pca.fit(test_x).transform(test_x)\n",
    "# ... and apply it to the features\n",
    "\n",
    "\n"
   ]
  },
  {
   "cell_type": "code",
   "execution_count": 18,
   "metadata": {
    "colab": {
     "base_uri": "https://localhost:8080/",
     "height": 34
    },
    "id": "bqOBBc5i-Ocx",
    "outputId": "6a34aa80-da57-417e-84dc-16ab04331d66"
   },
   "outputs": [
    {
     "data": {
      "text/plain": [
       "(28270, 2)"
      ]
     },
     "execution_count": 18,
     "metadata": {
      "tags": []
     },
     "output_type": "execute_result"
    }
   ],
   "source": [
    "X_test_scaled_pca.shape"
   ]
  },
  {
   "cell_type": "markdown",
   "metadata": {
    "id": "BGOM7M0xyeK9"
   },
   "source": [
    "# 3. Logistic Regression"
   ]
  },
  {
   "cell_type": "code",
   "execution_count": null,
   "metadata": {
    "colab": {
     "base_uri": "https://localhost:8080/",
     "height": 1000
    },
    "id": "QC8RjBKkyeK9",
    "outputId": "61cdd4ef-d131-4619-d3ae-ed7227a84cbf"
   },
   "outputs": [
    {
     "name": "stderr",
     "output_type": "stream",
     "text": [
      "/usr/local/lib/python3.6/dist-packages/sklearn/linear_model/_logistic.py:940: ConvergenceWarning: lbfgs failed to converge (status=1):\n",
      "STOP: TOTAL NO. of ITERATIONS REACHED LIMIT.\n",
      "\n",
      "Increase the number of iterations (max_iter) or scale the data as shown in:\n",
      "    https://scikit-learn.org/stable/modules/preprocessing.html\n",
      "Please also refer to the documentation for alternative solver options:\n",
      "    https://scikit-learn.org/stable/modules/linear_model.html#logistic-regression\n",
      "  extra_warning_msg=_LOGISTIC_SOLVER_CONVERGENCE_MSG)\n"
     ]
    },
    {
     "name": "stdout",
     "output_type": "stream",
     "text": [
      "Acuracy of LR : 85.0%\n",
      "[[9.97665370e-01 3.89105058e-04 0.00000000e+00 0.00000000e+00\n",
      "  0.00000000e+00 3.89105058e-04 0.00000000e+00 0.00000000e+00\n",
      "  7.78210117e-04 0.00000000e+00 7.78210117e-04]\n",
      " [0.00000000e+00 9.63813230e-01 0.00000000e+00 0.00000000e+00\n",
      "  3.57976654e-02 3.89105058e-04 0.00000000e+00 0.00000000e+00\n",
      "  0.00000000e+00 0.00000000e+00 0.00000000e+00]\n",
      " [1.16731518e-03 0.00000000e+00 9.95719844e-01 0.00000000e+00\n",
      "  0.00000000e+00 0.00000000e+00 0.00000000e+00 0.00000000e+00\n",
      "  2.72373541e-03 3.89105058e-04 0.00000000e+00]\n",
      " [0.00000000e+00 0.00000000e+00 0.00000000e+00 9.98443580e-01\n",
      "  0.00000000e+00 0.00000000e+00 0.00000000e+00 1.55642023e-03\n",
      "  0.00000000e+00 0.00000000e+00 0.00000000e+00]\n",
      " [0.00000000e+00 7.00389105e-02 0.00000000e+00 0.00000000e+00\n",
      "  9.19455253e-01 8.17120623e-03 0.00000000e+00 0.00000000e+00\n",
      "  2.33463035e-03 0.00000000e+00 0.00000000e+00]\n",
      " [3.89105058e-04 3.89105058e-04 0.00000000e+00 0.00000000e+00\n",
      "  3.89105058e-03 9.95330739e-01 0.00000000e+00 0.00000000e+00\n",
      "  0.00000000e+00 0.00000000e+00 0.00000000e+00]\n",
      " [0.00000000e+00 0.00000000e+00 7.78210117e-04 3.89105058e-04\n",
      "  0.00000000e+00 0.00000000e+00 6.42023346e-01 3.55642023e-01\n",
      "  1.16731518e-03 0.00000000e+00 0.00000000e+00]\n",
      " [3.89105058e-04 0.00000000e+00 0.00000000e+00 1.55642023e-03\n",
      "  0.00000000e+00 0.00000000e+00 1.48638132e-01 8.49027237e-01\n",
      "  3.89105058e-04 0.00000000e+00 0.00000000e+00]\n",
      " [5.44747082e-03 0.00000000e+00 0.00000000e+00 3.89105058e-04\n",
      "  0.00000000e+00 0.00000000e+00 0.00000000e+00 3.89105058e-04\n",
      "  9.93774319e-01 0.00000000e+00 0.00000000e+00]\n",
      " [7.78210117e-04 0.00000000e+00 0.00000000e+00 0.00000000e+00\n",
      "  0.00000000e+00 0.00000000e+00 0.00000000e+00 0.00000000e+00\n",
      "  0.00000000e+00 9.99221790e-01 0.00000000e+00]\n",
      " [0.00000000e+00 0.00000000e+00 0.00000000e+00 0.00000000e+00\n",
      "  0.00000000e+00 3.89105058e-04 0.00000000e+00 0.00000000e+00\n",
      "  0.00000000e+00 9.99610895e-01 0.00000000e+00]]\n"
     ]
    },
    {
     "data": {
      "image/png": "[encoded data removed]",
      "text/plain": [
       "<Figure size 432x288 with 2 Axes>"
      ]
     },
     "metadata": {
      "needs_background": "light",
      "tags": []
     },
     "output_type": "display_data"
    }
   ],
   "source": [
    "################ Logit ##################\n",
    "\n",
    "# Train a Logit model on the original features\n",
    "lr = linear_model.LogisticRegression(penalty='none').fit(X_train_scaled, train_y)\n",
    "\n",
    "# Compute the predicted labels on test data\n",
    "y_lr = lr.predict(X_test_scaled)\n",
    "\n",
    "# Print the accuracy\n",
    "# test_y are the true test labels whereas y_lr are the predicted.\n",
    "print(\"Acuracy of LR : %.1f%%\" % (metrics.accuracy_score(test_y, y_lr)*100))\n",
    "\n",
    "#Compute and print and confusion matrix\n",
    "\n",
    "compute_and_plot_cm(test_y, y_lr,data_class_labels , title=\"Logistic Regression on original data.\")"
   ]
  },
  {
   "cell_type": "markdown",
   "metadata": {
    "id": "uYTnj0XryeLA"
   },
   "source": [
    "### Apply LR on PCA components (Bonus)"
   ]
  },
  {
   "cell_type": "code",
   "execution_count": 19,
   "metadata": {
    "colab": {
     "base_uri": "https://localhost:8080/",
     "height": 1000
    },
    "id": "kNJ3vryZyeLB",
    "outputId": "62698253-ea1a-4dbe-840a-4cde27690973"
   },
   "outputs": [
    {
     "name": "stderr",
     "output_type": "stream",
     "text": [
      "/usr/local/lib/python3.6/dist-packages/sklearn/linear_model/_logistic.py:940: ConvergenceWarning: lbfgs failed to converge (status=1):\n",
      "STOP: TOTAL NO. of ITERATIONS REACHED LIMIT.\n",
      "\n",
      "Increase the number of iterations (max_iter) or scale the data as shown in:\n",
      "    https://scikit-learn.org/stable/modules/preprocessing.html\n",
      "Please also refer to the documentation for alternative solver options:\n",
      "    https://scikit-learn.org/stable/modules/linear_model.html#logistic-regression\n",
      "  extra_warning_msg=_LOGISTIC_SOLVER_CONVERGENCE_MSG)\n"
     ]
    },
    {
     "name": "stdout",
     "output_type": "stream",
     "text": [
      "Acuracy of LR + PCA: 62.1%\n",
      "[[9.67704280e-01 0.00000000e+00 0.00000000e+00 7.78210117e-04\n",
      "  1.16731518e-03 0.00000000e+00 0.00000000e+00 0.00000000e+00\n",
      "  2.95719844e-02 7.78210117e-04 0.00000000e+00]\n",
      " [0.00000000e+00 1.26459144e-01 0.00000000e+00 0.00000000e+00\n",
      "  7.52529183e-01 1.17120623e-01 0.00000000e+00 0.00000000e+00\n",
      "  3.89105058e-03 0.00000000e+00 0.00000000e+00]\n",
      " [0.00000000e+00 0.00000000e+00 9.87159533e-01 0.00000000e+00\n",
      "  0.00000000e+00 0.00000000e+00 0.00000000e+00 0.00000000e+00\n",
      "  8.56031128e-03 4.28015564e-03 0.00000000e+00]\n",
      " [0.00000000e+00 0.00000000e+00 1.71206226e-02 7.29571984e-01\n",
      "  0.00000000e+00 0.00000000e+00 1.39688716e-01 1.12840467e-01\n",
      "  3.89105058e-04 3.89105058e-04 0.00000000e+00]\n",
      " [0.00000000e+00 6.49805447e-02 0.00000000e+00 0.00000000e+00\n",
      "  8.41634241e-01 8.75486381e-02 0.00000000e+00 0.00000000e+00\n",
      "  5.83657588e-03 0.00000000e+00 0.00000000e+00]\n",
      " [1.16731518e-03 1.59922179e-01 0.00000000e+00 0.00000000e+00\n",
      "  4.91828794e-01 3.23346304e-01 0.00000000e+00 0.00000000e+00\n",
      "  2.37354086e-02 0.00000000e+00 0.00000000e+00]\n",
      " [3.89105058e-04 0.00000000e+00 0.00000000e+00 2.12062257e-01\n",
      "  3.89105058e-04 7.78210117e-04 5.21789883e-01 2.61867704e-01\n",
      "  2.72373541e-03 0.00000000e+00 0.00000000e+00]\n",
      " [3.89105058e-04 0.00000000e+00 0.00000000e+00 4.31906615e-01\n",
      "  0.00000000e+00 0.00000000e+00 1.59533074e-01 4.05836576e-01\n",
      "  2.33463035e-03 0.00000000e+00 0.00000000e+00]\n",
      " [8.17120623e-03 0.00000000e+00 2.91828794e-02 4.66926070e-03\n",
      "  7.78210117e-04 1.55642023e-03 0.00000000e+00 8.56031128e-03\n",
      "  9.24902724e-01 2.21789883e-02 0.00000000e+00]\n",
      " [7.78210117e-04 0.00000000e+00 0.00000000e+00 0.00000000e+00\n",
      "  0.00000000e+00 0.00000000e+00 0.00000000e+00 0.00000000e+00\n",
      "  0.00000000e+00 9.99221790e-01 0.00000000e+00]\n",
      " [0.00000000e+00 0.00000000e+00 0.00000000e+00 0.00000000e+00\n",
      "  0.00000000e+00 3.89105058e-04 0.00000000e+00 0.00000000e+00\n",
      "  0.00000000e+00 9.99610895e-01 0.00000000e+00]]\n",
      "WARNING: we have less colors than classes: some classes will reuse the same color\n"
     ]
    },
    {
     "data": {
      "image/png": "[encoded data removed]",
      "text/plain": [
       "<Figure size 432x288 with 2 Axes>"
      ]
     },
     "metadata": {
      "needs_background": "light",
      "tags": []
     },
     "output_type": "display_data"
    },
    {
     "data": {
      "image/png": "[encoded data removed]",
      "text/plain": [
       "<Figure size 432x288 with 1 Axes>"
      ]
     },
     "metadata": {
      "needs_background": "light",
      "tags": []
     },
     "output_type": "display_data"
    }
   ],
   "source": [
    "# Train a Logit model on pca extracted features\n",
    "lr_pca = linear_model.LogisticRegression().fit(X_train_scaled_pca, train_y)\n",
    "\n",
    "# Compute the predicted labels on test data\n",
    "y_lr_pca = lr_pca.predict(X_test_scaled_pca)\n",
    "\n",
    "# Prit the accuracy\n",
    "print(\"Acuracy of LR + PCA: %.1f%%\" % (metrics.accuracy_score(test_y,y_lr_pca)*100))\n",
    "\n",
    "\n",
    "#Compute and print and confusion matrix\n",
    "compute_and_plot_cm(test_y, y_lr_pca, data_class_labels, title=\"LR + PCA\")\n",
    "\n",
    "# visualize the predictions based on 2 PCA components\n",
    "plot_2d(X_test_scaled_pca, y_lr_pca, data_class_labels, title=\"LR + PCA\")"
   ]
  },
  {
   "cell_type": "markdown",
   "metadata": {
    "id": "4UuBkg8NyeLD"
   },
   "source": [
    "# 4. Apply Support Vector Machine"
   ]
  },
  {
   "cell_type": "code",
   "execution_count": null,
   "metadata": {
    "colab": {
     "base_uri": "https://localhost:8080/",
     "height": 872
    },
    "id": "q2oWjH54yeLD",
    "outputId": "8c24952f-650c-4af0-a5a3-c74d31cf8cc9"
   },
   "outputs": [
    {
     "name": "stdout",
     "output_type": "stream",
     "text": [
      "Acuracy of SVM: 86.6%\n",
      "[[9.99221790e-01 0.00000000e+00 0.00000000e+00 0.00000000e+00\n",
      "  0.00000000e+00 0.00000000e+00 0.00000000e+00 0.00000000e+00\n",
      "  7.78210117e-04 0.00000000e+00 0.00000000e+00]\n",
      " [0.00000000e+00 9.94552529e-01 0.00000000e+00 0.00000000e+00\n",
      "  5.44747082e-03 0.00000000e+00 0.00000000e+00 0.00000000e+00\n",
      "  0.00000000e+00 0.00000000e+00 0.00000000e+00]\n",
      " [0.00000000e+00 0.00000000e+00 9.98443580e-01 0.00000000e+00\n",
      "  0.00000000e+00 0.00000000e+00 0.00000000e+00 0.00000000e+00\n",
      "  1.16731518e-03 0.00000000e+00 3.89105058e-04]\n",
      " [3.89105058e-04 0.00000000e+00 0.00000000e+00 9.99610895e-01\n",
      "  0.00000000e+00 0.00000000e+00 0.00000000e+00 0.00000000e+00\n",
      "  0.00000000e+00 0.00000000e+00 0.00000000e+00]\n",
      " [3.89105058e-04 3.89105058e-04 0.00000000e+00 0.00000000e+00\n",
      "  9.95330739e-01 3.89105058e-03 0.00000000e+00 0.00000000e+00\n",
      "  0.00000000e+00 0.00000000e+00 0.00000000e+00]\n",
      " [0.00000000e+00 0.00000000e+00 0.00000000e+00 0.00000000e+00\n",
      "  0.00000000e+00 1.00000000e+00 0.00000000e+00 0.00000000e+00\n",
      "  0.00000000e+00 0.00000000e+00 0.00000000e+00]\n",
      " [1.16731518e-03 0.00000000e+00 0.00000000e+00 3.89105058e-04\n",
      "  0.00000000e+00 0.00000000e+00 5.87159533e-01 4.10116732e-01\n",
      "  1.16731518e-03 0.00000000e+00 0.00000000e+00]\n",
      " [3.89105058e-04 0.00000000e+00 0.00000000e+00 1.55642023e-03\n",
      "  0.00000000e+00 0.00000000e+00 4.55252918e-02 9.52140078e-01\n",
      "  3.89105058e-04 0.00000000e+00 0.00000000e+00]\n",
      " [1.94552529e-03 0.00000000e+00 0.00000000e+00 0.00000000e+00\n",
      "  0.00000000e+00 0.00000000e+00 0.00000000e+00 0.00000000e+00\n",
      "  9.98054475e-01 0.00000000e+00 0.00000000e+00]\n",
      " [7.78210117e-04 0.00000000e+00 0.00000000e+00 0.00000000e+00\n",
      "  0.00000000e+00 0.00000000e+00 0.00000000e+00 0.00000000e+00\n",
      "  0.00000000e+00 0.00000000e+00 9.99221790e-01]\n",
      " [3.89105058e-04 0.00000000e+00 0.00000000e+00 0.00000000e+00\n",
      "  0.00000000e+00 0.00000000e+00 0.00000000e+00 0.00000000e+00\n",
      "  0.00000000e+00 0.00000000e+00 9.99610895e-01]]\n"
     ]
    },
    {
     "data": {
      "image/png": "[encoded data removed]",
      "text/plain": [
       "<Figure size 432x288 with 2 Axes>"
      ]
     },
     "metadata": {
      "needs_background": "light",
      "tags": []
     },
     "output_type": "display_data"
    }
   ],
   "source": [
    "################ SVM ##################\n",
    "# Train a SVM model on the original features\n",
    "sv = svm.SVC().fit(X_train_scaled,train_y)\n",
    "\n",
    "# Compute the predicted labels on test data\n",
    "y_sv = sv.predict(X_test_scaled)\n",
    "\n",
    "# Print the accuracy\n",
    "print(\"Acuracy of SVM: %.1f%%\" % (metrics.accuracy_score(test_y,y_sv)*100))\n",
    "\n",
    "#Compute and print and confusion matrix\n",
    "compute_and_plot_cm(test_y, y_sv, data_class_labels, title=\"SVM\")"
   ]
  },
  {
   "cell_type": "markdown",
   "metadata": {
    "id": "wd5kgNKUyeLG"
   },
   "source": [
    "# 5. Apply Decision Tree"
   ]
  },
  {
   "cell_type": "code",
   "execution_count": null,
   "metadata": {
    "colab": {
     "base_uri": "https://localhost:8080/",
     "height": 527
    },
    "id": "0gch9_XEyeLG",
    "outputId": "14315b66-381b-499e-ea78-7a83a26e08f3"
   },
   "outputs": [
    {
     "name": "stdout",
     "output_type": "stream",
     "text": [
      "Acuracy of Decision Tree: 18.18 with max_depth = 1\n",
      "Acuracy of Decision Tree: 36.36 with max_depth = 2\n",
      "Acuracy of Decision Tree: 54.48 with max_depth = 3\n",
      "Acuracy of Decision Tree: 63.62 with max_depth = 4\n",
      "Acuracy of Decision Tree: 72.71 with max_depth = 5\n",
      "Acuracy of Decision Tree: 66.66 with max_depth = 6\n",
      "Acuracy of Decision Tree: 68.73 with max_depth = 7\n",
      "Acuracy of Decision Tree: 78.34 with max_depth = 8\n",
      "Acuracy of Decision Tree: 70.13 with max_depth = 9\n",
      "Acuracy of Decision Tree: 81.09 with max_depth = 10\n",
      "Acuracy of Decision Tree: 70.36 with max_depth = 11\n",
      "Acuracy of Decision Tree: 69.55 with max_depth = 12\n",
      "Acuracy of Decision Tree: 67.70 with max_depth = 13\n",
      "Acuracy of Decision Tree: 68.87 with max_depth = 14\n",
      "Acuracy of Decision Tree: 76.62 with max_depth = 15\n",
      "Acuracy of Decision Tree: 68.94 with max_depth = 16\n",
      "Acuracy of Decision Tree: 77.79 with max_depth = 17\n",
      "Acuracy of Decision Tree: 68.93 with max_depth = 18\n",
      "Acuracy of Decision Tree: 67.81 with max_depth = 19\n",
      "Acuracy of Decision Tree: 78.02 with max_depth = 20\n",
      "Acuracy of Decision Tree: 69.51 with max_depth = 21\n",
      "Acuracy of Decision Tree: 67.56 with max_depth = 22\n",
      "Acuracy of Decision Tree: 76.86 with max_depth = 23\n",
      "Acuracy of Decision Tree: 69.64 with max_depth = 24\n",
      "Acuracy of Decision Tree: 68.80 with max_depth = 25\n",
      "Acuracy of Decision Tree: 76.94 with max_depth = 26\n",
      "Acuracy of Decision Tree: 76.88 with max_depth = 27\n",
      "Acuracy of Decision Tree: 67.81 with max_depth = 28\n",
      "Acuracy of Decision Tree: 67.96 with max_depth = 29\n",
      "Acuracy of Decision Tree: 68.04 with max_depth = 30\n"
     ]
    }
   ],
   "source": [
    "################ DecisionTree ##################\n",
    "# Train a DT model on the original features\n",
    "best_accuracy = float('-inf')\n",
    "best_index = float('-inf')\n",
    "for i in range(1,31):\n",
    "    dt = tree.DecisionTreeClassifier(max_depth=i).fit(X_train_scaled,train_y)\n",
    "\n",
    "    # Compute the predicted labels on test data\n",
    "    y_dt = dt.predict(X_test_scaled)\n",
    "\n",
    "    #print the accuracy\n",
    "    accuracy = metrics.accuracy_score(test_y,y_dt)*100\n",
    "    print(\"Acuracy of Decision Tree: {:.2f} with max_depth = {}\".format(accuracy, i))\n",
    "    # Compute and show confusion matrix\n",
    "    if accuracy > best_accuracy: \n",
    "        best_accuracy = accuracy\n",
    "        best_index = i  \n"
   ]
  },
  {
   "cell_type": "code",
   "execution_count": null,
   "metadata": {
    "colab": {
     "base_uri": "https://localhost:8080/",
     "height": 872
    },
    "id": "wowpxJeE8mXA",
    "outputId": "8fa1822f-f6be-4dea-f327-21c05d6597ca"
   },
   "outputs": [
    {
     "name": "stdout",
     "output_type": "stream",
     "text": [
      "best accuracy achieved with max_depth = 10 and it was equal to = 81.09\n",
      "[[3.33073930e-01 0.00000000e+00 0.00000000e+00 0.00000000e+00\n",
      "  0.00000000e+00 0.00000000e+00 0.00000000e+00 0.00000000e+00\n",
      "  0.00000000e+00 0.00000000e+00 6.66926070e-01]\n",
      " [0.00000000e+00 9.99610895e-01 0.00000000e+00 0.00000000e+00\n",
      "  3.89105058e-04 0.00000000e+00 0.00000000e+00 0.00000000e+00\n",
      "  0.00000000e+00 0.00000000e+00 0.00000000e+00]\n",
      " [0.00000000e+00 0.00000000e+00 9.99610895e-01 0.00000000e+00\n",
      "  0.00000000e+00 0.00000000e+00 0.00000000e+00 0.00000000e+00\n",
      "  0.00000000e+00 0.00000000e+00 3.89105058e-04]\n",
      " [0.00000000e+00 0.00000000e+00 0.00000000e+00 9.99610895e-01\n",
      "  0.00000000e+00 0.00000000e+00 3.89105058e-04 0.00000000e+00\n",
      "  0.00000000e+00 0.00000000e+00 0.00000000e+00]\n",
      " [0.00000000e+00 0.00000000e+00 0.00000000e+00 0.00000000e+00\n",
      "  1.00000000e+00 0.00000000e+00 0.00000000e+00 0.00000000e+00\n",
      "  0.00000000e+00 0.00000000e+00 0.00000000e+00]\n",
      " [0.00000000e+00 0.00000000e+00 0.00000000e+00 0.00000000e+00\n",
      "  0.00000000e+00 1.00000000e+00 0.00000000e+00 0.00000000e+00\n",
      "  0.00000000e+00 0.00000000e+00 0.00000000e+00]\n",
      " [0.00000000e+00 0.00000000e+00 0.00000000e+00 0.00000000e+00\n",
      "  0.00000000e+00 0.00000000e+00 7.63035019e-01 2.36964981e-01\n",
      "  0.00000000e+00 0.00000000e+00 0.00000000e+00]\n",
      " [3.89105058e-04 0.00000000e+00 0.00000000e+00 0.00000000e+00\n",
      "  0.00000000e+00 0.00000000e+00 1.71206226e-01 8.28404669e-01\n",
      "  0.00000000e+00 0.00000000e+00 0.00000000e+00]\n",
      " [3.89105058e-04 0.00000000e+00 0.00000000e+00 0.00000000e+00\n",
      "  0.00000000e+00 0.00000000e+00 0.00000000e+00 0.00000000e+00\n",
      "  9.99610895e-01 0.00000000e+00 0.00000000e+00]\n",
      " [3.89105058e-04 0.00000000e+00 0.00000000e+00 0.00000000e+00\n",
      "  0.00000000e+00 0.00000000e+00 0.00000000e+00 0.00000000e+00\n",
      "  0.00000000e+00 3.89105058e-04 9.99221790e-01]\n",
      " [0.00000000e+00 0.00000000e+00 0.00000000e+00 0.00000000e+00\n",
      "  0.00000000e+00 0.00000000e+00 0.00000000e+00 0.00000000e+00\n",
      "  0.00000000e+00 0.00000000e+00 1.00000000e+00]]\n"
     ]
    },
    {
     "data": {
      "image/png": "[encoded data removed]",
      "text/plain": [
       "<Figure size 432x288 with 2 Axes>"
      ]
     },
     "metadata": {
      "needs_background": "light",
      "tags": []
     },
     "output_type": "display_data"
    }
   ],
   "source": [
    "print(\"best accuracy achieved with max_depth = {} and it was equal to = {:.2f}\".format(best_index, best_accuracy))\n",
    "dt = tree.DecisionTreeClassifier(max_depth=best_index).fit(X_train_scaled,train_y)\n",
    "\n",
    "    # Compute the predicted labels on test data\n",
    "y_dt = dt.predict(X_test_scaled)\n",
    "\n",
    "compute_and_plot_cm(test_y, y_dt, data_class_labels, title=\"Decision tree\")"
   ]
  },
  {
   "cell_type": "markdown",
   "metadata": {
    "id": "qXoiJPAkyeLJ"
   },
   "source": [
    "# 6. Apply Random Forest"
   ]
  },
  {
   "cell_type": "code",
   "execution_count": null,
   "metadata": {
    "colab": {
     "base_uri": "https://localhost:8080/",
     "height": 872
    },
    "id": "tiuEPGILyeLJ",
    "outputId": "03dc0bdb-1f41-4920-fe82-4a8fbe5a5a45"
   },
   "outputs": [
    {
     "name": "stdout",
     "output_type": "stream",
     "text": [
      "Acuracy of Random Forest: 81.76\n",
      "[[1.00000000e+00 0.00000000e+00 0.00000000e+00 0.00000000e+00\n",
      "  0.00000000e+00 0.00000000e+00 0.00000000e+00 0.00000000e+00\n",
      "  0.00000000e+00 0.00000000e+00 0.00000000e+00]\n",
      " [0.00000000e+00 1.00000000e+00 0.00000000e+00 0.00000000e+00\n",
      "  0.00000000e+00 0.00000000e+00 0.00000000e+00 0.00000000e+00\n",
      "  0.00000000e+00 0.00000000e+00 0.00000000e+00]\n",
      " [3.89105058e-04 0.00000000e+00 9.99610895e-01 0.00000000e+00\n",
      "  0.00000000e+00 0.00000000e+00 0.00000000e+00 0.00000000e+00\n",
      "  0.00000000e+00 0.00000000e+00 0.00000000e+00]\n",
      " [0.00000000e+00 0.00000000e+00 0.00000000e+00 9.99610895e-01\n",
      "  0.00000000e+00 0.00000000e+00 0.00000000e+00 3.89105058e-04\n",
      "  0.00000000e+00 0.00000000e+00 0.00000000e+00]\n",
      " [0.00000000e+00 0.00000000e+00 0.00000000e+00 0.00000000e+00\n",
      "  1.00000000e+00 0.00000000e+00 0.00000000e+00 0.00000000e+00\n",
      "  0.00000000e+00 0.00000000e+00 0.00000000e+00]\n",
      " [0.00000000e+00 0.00000000e+00 0.00000000e+00 0.00000000e+00\n",
      "  0.00000000e+00 1.00000000e+00 0.00000000e+00 0.00000000e+00\n",
      "  0.00000000e+00 0.00000000e+00 0.00000000e+00]\n",
      " [0.00000000e+00 0.00000000e+00 0.00000000e+00 0.00000000e+00\n",
      "  0.00000000e+00 0.00000000e+00 9.98832685e-01 1.16731518e-03\n",
      "  0.00000000e+00 0.00000000e+00 0.00000000e+00]\n",
      " [3.89105058e-04 0.00000000e+00 0.00000000e+00 0.00000000e+00\n",
      "  0.00000000e+00 0.00000000e+00 4.66926070e-03 9.94941634e-01\n",
      "  0.00000000e+00 0.00000000e+00 0.00000000e+00]\n",
      " [3.89105058e-04 0.00000000e+00 0.00000000e+00 0.00000000e+00\n",
      "  0.00000000e+00 0.00000000e+00 0.00000000e+00 0.00000000e+00\n",
      "  9.99610895e-01 0.00000000e+00 0.00000000e+00]\n",
      " [9.99610895e-01 0.00000000e+00 0.00000000e+00 0.00000000e+00\n",
      "  0.00000000e+00 0.00000000e+00 0.00000000e+00 0.00000000e+00\n",
      "  0.00000000e+00 3.89105058e-04 0.00000000e+00]\n",
      " [9.99610895e-01 0.00000000e+00 0.00000000e+00 0.00000000e+00\n",
      "  0.00000000e+00 0.00000000e+00 0.00000000e+00 0.00000000e+00\n",
      "  0.00000000e+00 0.00000000e+00 3.89105058e-04]]\n"
     ]
    },
    {
     "data": {
      "image/png": "[encoded data removed]",
      "text/plain": [
       "<Figure size 432x288 with 2 Axes>"
      ]
     },
     "metadata": {
      "needs_background": "light",
      "tags": []
     },
     "output_type": "display_data"
    }
   ],
   "source": [
    "################ RandomForest ##################\n",
    "# Train a RF model on the original features\n",
    "# default values for RandomForestClassifier.\n",
    "rf = ensemble.RandomForestClassifier().fit(X_train_scaled,train_y)\n",
    "\n",
    "# Compute the predicted labels on test data\n",
    "y_rf = rf.predict(X_test_scaled)\n",
    "\n",
    "#print the accuracy\n",
    "accuracy = metrics.accuracy_score(test_y,y_rf)*100\n",
    "print(\"Acuracy of Random Forest: {:.2f}\".format(accuracy))\n",
    "# Compute and show confusion matrix\n",
    "compute_and_plot_cm(test_y, y_rf, data_class_labels, title=\"Random Forest\")"
   ]
  },
  {
   "cell_type": "markdown",
   "metadata": {
    "id": "NX3x6qV0kWvl"
   },
   "source": [
    "#6b. Apply Random Forest with hyper-parameter tuning (RandomSearchCV)"
   ]
  },
  {
   "cell_type": "code",
   "execution_count": null,
   "metadata": {
    "colab": {
     "base_uri": "https://localhost:8080/",
     "height": 34
    },
    "id": "KNph0bL_I4p-",
    "outputId": "d843b2d9-0d06-40bf-e16e-056775c03d4d"
   },
   "outputs": [
    {
     "name": "stdout",
     "output_type": "stream",
     "text": [
      "{'n_estimators': [100, 112, 124, 136, 148, 161, 173, 185, 197, 210], 'max_depth': [5, 6, 7, 8, 9, 10, 11, 12, 13, 14, 15, None], 'min_samples_split': [2, 5, 10, 15]}\n"
     ]
    }
   ],
   "source": [
    "# n_estimators = number of trees in the foreset\n",
    "# max_features = max number of features considered for splitting a node\n",
    "# max_depth = max number of levels in each decision tree\n",
    "# min_samples_split = min number of data points placed in a node before the node is split\n",
    "\n",
    "# fine best parameters for random forest. \n",
    "from sklearn.model_selection import RandomizedSearchCV\n",
    "# Number of trees in random forest\n",
    "n_estimators = [int(x) for x in np.linspace(start = 100, stop = 210, num = 10)]\n",
    "# Maximum number of levels in tree\n",
    "max_depth = [int(x) for x in np.linspace(5, 15, num = 11)]\n",
    "max_depth.append(None)\n",
    "# Minimum number of samples required to split a node\n",
    "min_samples_split = [2, 5, 10,15]\n",
    "\n",
    "# Create the random grid\n",
    "random_grid = {'n_estimators': n_estimators,\n",
    "               'max_depth': max_depth,\n",
    "               'min_samples_split': min_samples_split}\n",
    "print(random_grid)\n"
   ]
  },
  {
   "cell_type": "code",
   "execution_count": null,
   "metadata": {
    "colab": {
     "base_uri": "https://localhost:8080/",
     "height": 680
    },
    "id": "Ed6oI_dyK0nx",
    "outputId": "a4bab743-cc34-4c7e-abeb-244e9dc006c9"
   },
   "outputs": [
    {
     "name": "stdout",
     "output_type": "stream",
     "text": [
      "Fitting 3 folds for each of 15 candidates, totalling 45 fits\n"
     ]
    },
    {
     "name": "stderr",
     "output_type": "stream",
     "text": [
      "[Parallel(n_jobs=8)]: Using backend LokyBackend with 8 concurrent workers.\n",
      "[Parallel(n_jobs=8)]: Done   2 tasks      | elapsed:  1.3min\n",
      "[Parallel(n_jobs=8)]: Done   9 tasks      | elapsed:  3.9min\n",
      "[Parallel(n_jobs=8)]: Done  16 tasks      | elapsed:  6.7min\n",
      "[Parallel(n_jobs=8)]: Done  25 tasks      | elapsed: 10.3min\n",
      "[Parallel(n_jobs=8)]: Done  35 out of  45 | elapsed: 13.0min remaining:  3.7min\n",
      "[Parallel(n_jobs=8)]: Done  40 out of  45 | elapsed: 14.4min remaining:  1.8min\n",
      "[Parallel(n_jobs=8)]: Done  45 out of  45 | elapsed: 15.0min remaining:    0.0s\n",
      "[Parallel(n_jobs=8)]: Done  45 out of  45 | elapsed: 15.0min finished\n"
     ]
    },
    {
     "data": {
      "text/plain": [
       "RandomizedSearchCV(cv=3, error_score=nan,\n",
       "                   estimator=RandomForestClassifier(bootstrap=True,\n",
       "                                                    ccp_alpha=0.0,\n",
       "                                                    class_weight=None,\n",
       "                                                    criterion='gini',\n",
       "                                                    max_depth=None,\n",
       "                                                    max_features='auto',\n",
       "                                                    max_leaf_nodes=None,\n",
       "                                                    max_samples=None,\n",
       "                                                    min_impurity_decrease=0.0,\n",
       "                                                    min_impurity_split=None,\n",
       "                                                    min_samples_leaf=1,\n",
       "                                                    min_samples_split=2,\n",
       "                                                    min_weight_fraction_leaf=0.0,\n",
       "                                                    n_estimators=100,\n",
       "                                                    n_jobs...\n",
       "                                                    oob_score=False,\n",
       "                                                    random_state=None,\n",
       "                                                    verbose=0,\n",
       "                                                    warm_start=False),\n",
       "                   iid='deprecated', n_iter=15, n_jobs=8,\n",
       "                   param_distributions={'max_depth': [5, 6, 7, 8, 9, 10, 11, 12,\n",
       "                                                      13, 14, 15, None],\n",
       "                                        'min_samples_split': [2, 5, 10, 15],\n",
       "                                        'n_estimators': [100, 112, 124, 136,\n",
       "                                                         148, 161, 173, 185,\n",
       "                                                         197, 210]},\n",
       "                   pre_dispatch='2*n_jobs', random_state=42, refit=True,\n",
       "                   return_train_score=False, scoring=None, verbose=10)"
      ]
     },
     "execution_count": 54,
     "metadata": {
      "tags": []
     },
     "output_type": "execute_result"
    }
   ],
   "source": [
    "# Use the random grid to search for best hyperparameters\n",
    "# First create the base model to tune\n",
    "from sklearn.ensemble import RandomForestClassifier\n",
    "rf = RandomForestClassifier()\n",
    "# Random search of parameters, using 3 fold cross validation, \n",
    "# search across 100 different combinations, and use all available coresrf_random.fit(X_train_scaled, train_x)\n",
    "rf_random = RandomizedSearchCV( estimator = rf, param_distributions = random_grid, n_iter = 15, cv = 3, verbose=10, random_state=42, n_jobs = 8)\n",
    "# Fit the random search model.\n",
    "rf_random.fit(X_train_scaled, train_y)\n"
   ]
  },
  {
   "cell_type": "code",
   "execution_count": null,
   "metadata": {
    "colab": {
     "base_uri": "https://localhost:8080/",
     "height": 34
    },
    "id": "-AFRVk39gUUO",
    "outputId": "89fb71e0-b251-4736-e07e-0002114a58d7"
   },
   "outputs": [
    {
     "data": {
      "text/plain": [
       "{'max_depth': None, 'min_samples_split': 2, 'n_estimators': 124}"
      ]
     },
     "execution_count": 55,
     "metadata": {
      "tags": []
     },
     "output_type": "execute_result"
    }
   ],
   "source": [
    "rf_random.best_params_\n",
    "#best parameters from random search CV."
   ]
  },
  {
   "cell_type": "code",
   "execution_count": null,
   "metadata": {
    "colab": {
     "base_uri": "https://localhost:8080/",
     "height": 872
    },
    "id": "SEF0kjlugRKV",
    "outputId": "d924d4e0-0719-4bc3-8ebf-95bc3c47bd58"
   },
   "outputs": [
    {
     "name": "stdout",
     "output_type": "stream",
     "text": [
      "Acuracy of Random Forest: 81.21\n",
      "[[1.00000000e+00 0.00000000e+00 0.00000000e+00 0.00000000e+00\n",
      "  0.00000000e+00 0.00000000e+00 0.00000000e+00 0.00000000e+00\n",
      "  0.00000000e+00 0.00000000e+00 0.00000000e+00]\n",
      " [0.00000000e+00 1.00000000e+00 0.00000000e+00 0.00000000e+00\n",
      "  0.00000000e+00 0.00000000e+00 0.00000000e+00 0.00000000e+00\n",
      "  0.00000000e+00 0.00000000e+00 0.00000000e+00]\n",
      " [3.89105058e-04 0.00000000e+00 9.99610895e-01 0.00000000e+00\n",
      "  0.00000000e+00 0.00000000e+00 0.00000000e+00 0.00000000e+00\n",
      "  0.00000000e+00 0.00000000e+00 0.00000000e+00]\n",
      " [3.89105058e-04 0.00000000e+00 0.00000000e+00 9.99610895e-01\n",
      "  0.00000000e+00 0.00000000e+00 0.00000000e+00 0.00000000e+00\n",
      "  0.00000000e+00 0.00000000e+00 0.00000000e+00]\n",
      " [0.00000000e+00 0.00000000e+00 0.00000000e+00 0.00000000e+00\n",
      "  1.00000000e+00 0.00000000e+00 0.00000000e+00 0.00000000e+00\n",
      "  0.00000000e+00 0.00000000e+00 0.00000000e+00]\n",
      " [0.00000000e+00 0.00000000e+00 0.00000000e+00 0.00000000e+00\n",
      "  0.00000000e+00 1.00000000e+00 0.00000000e+00 0.00000000e+00\n",
      "  0.00000000e+00 0.00000000e+00 0.00000000e+00]\n",
      " [0.00000000e+00 0.00000000e+00 0.00000000e+00 0.00000000e+00\n",
      "  0.00000000e+00 0.00000000e+00 9.34241245e-01 6.57587549e-02\n",
      "  0.00000000e+00 0.00000000e+00 0.00000000e+00]\n",
      " [3.89105058e-04 0.00000000e+00 0.00000000e+00 0.00000000e+00\n",
      "  0.00000000e+00 0.00000000e+00 0.00000000e+00 9.99610895e-01\n",
      "  0.00000000e+00 0.00000000e+00 0.00000000e+00]\n",
      " [3.89105058e-04 0.00000000e+00 0.00000000e+00 0.00000000e+00\n",
      "  0.00000000e+00 0.00000000e+00 0.00000000e+00 0.00000000e+00\n",
      "  9.99610895e-01 0.00000000e+00 0.00000000e+00]\n",
      " [9.99610895e-01 0.00000000e+00 0.00000000e+00 0.00000000e+00\n",
      "  0.00000000e+00 0.00000000e+00 0.00000000e+00 0.00000000e+00\n",
      "  0.00000000e+00 3.89105058e-04 0.00000000e+00]\n",
      " [9.99610895e-01 0.00000000e+00 0.00000000e+00 0.00000000e+00\n",
      "  0.00000000e+00 0.00000000e+00 0.00000000e+00 0.00000000e+00\n",
      "  0.00000000e+00 3.89105058e-04 0.00000000e+00]]\n"
     ]
    },
    {
     "data": {
      "image/png": "[encoded data removed]",
      "text/plain": [
       "<Figure size 432x288 with 2 Axes>"
      ]
     },
     "metadata": {
      "needs_background": "light",
      "tags": []
     },
     "output_type": "display_data"
    }
   ],
   "source": [
    "# best params from randomsearchcv \n",
    "\n",
    "################ RandomForest ##################\n",
    "# Train a RF model on the original features\n",
    "# default values for RandomForestClassifier.\n",
    "rf = ensemble.RandomForestClassifier(min_samples_split= 2, n_estimators= 124).fit(X_train_scaled,train_y)\n",
    "\n",
    "# Compute the predicted labels on test data\n",
    "y_rf = rf.predict(X_test_scaled)\n",
    "\n",
    "#print the accuracy\n",
    "accuracy = metrics.accuracy_score(test_y,y_rf)*100\n",
    "print(\"Acuracy of Random Forest: {:.2f}\".format(accuracy))\n",
    "# Compute and show confusion matrix\n",
    "compute_and_plot_cm(test_y, y_rf, data_class_labels, title=\"Random Forest\")"
   ]
  },
  {
   "cell_type": "code",
   "execution_count": null,
   "metadata": {
    "id": "_0lqjppdPTTY"
   },
   "outputs": [],
   "source": []
  },
  {
   "cell_type": "markdown",
   "metadata": {
    "id": "q5a-PKZnyeLL"
   },
   "source": [
    "# 7. Multi-Layer Perceptron (MLP)"
   ]
  },
  {
   "cell_type": "code",
   "execution_count": 15,
   "metadata": {
    "colab": {
     "base_uri": "https://localhost:8080/",
     "height": 872
    },
    "id": "8Phf4sxkyeLM",
    "outputId": "5003aa08-1be2-48a8-ef3f-4f08a4d4ebad"
   },
   "outputs": [
    {
     "name": "stdout",
     "output_type": "stream",
     "text": [
      "Acuracy of Multi-layer Perceptron: 90.88\n",
      "[[9.99610895e-01 0.00000000e+00 0.00000000e+00 0.00000000e+00\n",
      "  0.00000000e+00 0.00000000e+00 0.00000000e+00 0.00000000e+00\n",
      "  3.89105058e-04 0.00000000e+00 0.00000000e+00]\n",
      " [0.00000000e+00 1.00000000e+00 0.00000000e+00 0.00000000e+00\n",
      "  0.00000000e+00 0.00000000e+00 0.00000000e+00 0.00000000e+00\n",
      "  0.00000000e+00 0.00000000e+00 0.00000000e+00]\n",
      " [0.00000000e+00 0.00000000e+00 9.99610895e-01 0.00000000e+00\n",
      "  0.00000000e+00 0.00000000e+00 0.00000000e+00 0.00000000e+00\n",
      "  3.89105058e-04 0.00000000e+00 0.00000000e+00]\n",
      " [0.00000000e+00 0.00000000e+00 0.00000000e+00 9.99610895e-01\n",
      "  3.89105058e-04 0.00000000e+00 0.00000000e+00 0.00000000e+00\n",
      "  0.00000000e+00 0.00000000e+00 0.00000000e+00]\n",
      " [0.00000000e+00 0.00000000e+00 0.00000000e+00 0.00000000e+00\n",
      "  1.00000000e+00 0.00000000e+00 0.00000000e+00 0.00000000e+00\n",
      "  0.00000000e+00 0.00000000e+00 0.00000000e+00]\n",
      " [0.00000000e+00 0.00000000e+00 0.00000000e+00 0.00000000e+00\n",
      "  0.00000000e+00 1.00000000e+00 0.00000000e+00 0.00000000e+00\n",
      "  0.00000000e+00 0.00000000e+00 0.00000000e+00]\n",
      " [0.00000000e+00 0.00000000e+00 0.00000000e+00 0.00000000e+00\n",
      "  0.00000000e+00 0.00000000e+00 9.99221790e-01 7.78210117e-04\n",
      "  0.00000000e+00 0.00000000e+00 0.00000000e+00]\n",
      " [0.00000000e+00 0.00000000e+00 3.89105058e-04 0.00000000e+00\n",
      "  0.00000000e+00 0.00000000e+00 0.00000000e+00 9.99610895e-01\n",
      "  0.00000000e+00 0.00000000e+00 0.00000000e+00]\n",
      " [0.00000000e+00 0.00000000e+00 0.00000000e+00 0.00000000e+00\n",
      "  0.00000000e+00 0.00000000e+00 3.89105058e-04 0.00000000e+00\n",
      "  9.99610895e-01 0.00000000e+00 0.00000000e+00]\n",
      " [3.89105058e-04 0.00000000e+00 3.89105058e-04 0.00000000e+00\n",
      "  0.00000000e+00 0.00000000e+00 0.00000000e+00 0.00000000e+00\n",
      "  0.00000000e+00 0.00000000e+00 9.99221790e-01]\n",
      " [0.00000000e+00 0.00000000e+00 0.00000000e+00 0.00000000e+00\n",
      "  0.00000000e+00 0.00000000e+00 0.00000000e+00 0.00000000e+00\n",
      "  0.00000000e+00 3.89105058e-04 9.99610895e-01]]\n"
     ]
    },
    {
     "data": {
      "image/png": "[encoded data removed]",
      "text/plain": [
       "<Figure size 432x288 with 2 Axes>"
      ]
     },
     "metadata": {
      "needs_background": "light",
      "tags": []
     },
     "output_type": "display_data"
    }
   ],
   "source": [
    "################ Multi-Layer Perceptron ##################\n",
    "# Train an MLP model on the original features\n",
    "# first input and output layer and in between 2 hidden layers with 256 and 128 neurons respectively.\n",
    "mlp = MLPClassifier ()\n",
    "ml = mlp.fit(X_train_scaled, train_y)\n",
    "\n",
    "# Compute the predicted labels on test data\n",
    "y_mlp = ml.predict(X_test_scaled)\n",
    "\n",
    "#print the accuracy\n",
    "accuracy = metrics.accuracy_score(test_y, y_mlp)*100\n",
    "print(\"Acuracy of Multi-layer Perceptron: {:.2f}\".format(accuracy))\n",
    "# Compute and show confusion matrix\n",
    "compute_and_plot_cm(test_y, y_mlp, data_class_labels, title=\"Multi Layer Perceptron (MLP)\")"
   ]
  },
  {
   "cell_type": "code",
   "execution_count": null,
   "metadata": {
    "id": "HPQ-LkUMFDNs"
   },
   "outputs": [],
   "source": []
  }
 ],
 "metadata": {
  "accelerator": "GPU",
  "colab": {
   "collapsed_sections": [],
   "name": "Machine_Learning_Code.ipynb",
   "provenance": [],
   "toc_visible": true
  },
  "kernelspec": {
   "display_name": "Python 3",
   "language": "python",
   "name": "python3"
  },
  "language_info": {
   "codemirror_mode": {
    "name": "ipython",
    "version": 3
   },
   "file_extension": ".py",
   "mimetype": "text/x-python",
   "name": "python",
   "nbconvert_exporter": "python",
   "pygments_lexer": "ipython3",
   "version": "3.8.5"
  }
 },
 "nbformat": 4,
 "nbformat_minor": 1
}
