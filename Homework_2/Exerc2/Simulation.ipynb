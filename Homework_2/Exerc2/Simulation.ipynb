{
 "cells": [
  {
   "cell_type": "code",
   "execution_count": 30,
   "metadata": {},
   "outputs": [
    {
     "output_type": "execute_result",
     "data": {
      "text/plain": "      inter_arrival  service_time\n0          0.167418      0.273090\n1          4.069272      0.003407\n2          0.362473      0.088248\n3          0.037700      0.064942\n4          1.260989      0.619072\n...             ...           ...\n2995       0.534943      0.235275\n2996       0.074017      0.890757\n2997       0.248282      0.798065\n2998       0.016911      0.065893\n2999       0.810612      0.618690\n\n[3000 rows x 2 columns]",
      "text/html": "<div>\n<style scoped>\n    .dataframe tbody tr th:only-of-type {\n        vertical-align: middle;\n    }\n\n    .dataframe tbody tr th {\n        vertical-align: top;\n    }\n\n    .dataframe thead th {\n        text-align: right;\n    }\n</style>\n<table border=\"1\" class=\"dataframe\">\n  <thead>\n    <tr style=\"text-align: right;\">\n      <th></th>\n      <th>inter_arrival</th>\n      <th>service_time</th>\n    </tr>\n  </thead>\n  <tbody>\n    <tr>\n      <th>0</th>\n      <td>0.167418</td>\n      <td>0.273090</td>\n    </tr>\n    <tr>\n      <th>1</th>\n      <td>4.069272</td>\n      <td>0.003407</td>\n    </tr>\n    <tr>\n      <th>2</th>\n      <td>0.362473</td>\n      <td>0.088248</td>\n    </tr>\n    <tr>\n      <th>3</th>\n      <td>0.037700</td>\n      <td>0.064942</td>\n    </tr>\n    <tr>\n      <th>4</th>\n      <td>1.260989</td>\n      <td>0.619072</td>\n    </tr>\n    <tr>\n      <th>...</th>\n      <td>...</td>\n      <td>...</td>\n    </tr>\n    <tr>\n      <th>2995</th>\n      <td>0.534943</td>\n      <td>0.235275</td>\n    </tr>\n    <tr>\n      <th>2996</th>\n      <td>0.074017</td>\n      <td>0.890757</td>\n    </tr>\n    <tr>\n      <th>2997</th>\n      <td>0.248282</td>\n      <td>0.798065</td>\n    </tr>\n    <tr>\n      <th>2998</th>\n      <td>0.016911</td>\n      <td>0.065893</td>\n    </tr>\n    <tr>\n      <th>2999</th>\n      <td>0.810612</td>\n      <td>0.618690</td>\n    </tr>\n  </tbody>\n</table>\n<p>3000 rows × 2 columns</p>\n</div>"
     },
     "metadata": {},
     "execution_count": 30
    }
   ],
   "source": [
    "import numpy as np\n",
    "import pandas as pd\n",
    "\n",
    "df = pd.read_csv('time.csv', sep = '\\t', names = [\"inter_arrival\",\"service_time\"])\n",
    "df"
   ]
  },
  {
   "cell_type": "code",
   "execution_count": 33,
   "metadata": {},
   "outputs": [],
   "source": [
    "class Simulation:\n",
    "    def __init__(self, df): \n",
    "        self.clock=0.0                      #simulation clock\n",
    "        self.num_arrivals=0                 #total number of arrivals\n",
    "        self.df = df\n",
    "        self.t_arrival=self.gen_int_arr()   #time of next arrival\n",
    "        self.t_departure1=float('inf')      #departure time from server 1\n",
    "        self.dep_sum1=0                     #Sum of service times by teller 1\n",
    "        self.state_T1=0                     #current state of server1 (binary)\n",
    "        self.total_wait_time=0.0            #total wait time\n",
    "        self.num_in_q=0                     #current number in queue\n",
    "        self.number_in_queue=0              #customers who had to wait in line(counter)\n",
    "        self.num_of_departures1=0           #number of customers served by teller 1 \n",
    "\n",
    "    def time_adv(self):                                                       \n",
    "        t_next_event=min(self.t_arrival,self.t_departure1)  \n",
    "        self.total_wait_time += (self.num_in_q*(t_next_event-self.clock))\n",
    "        self.clock=t_next_event\n",
    "                \n",
    "        if self.t_arrival<self.t_departure1:\n",
    "            self.arrival()\n",
    "        elif self.t_departure1<self.t_arrival:\n",
    "            self.server1()\n",
    "            \n",
    "    def arrival(self):              \n",
    "        self.num_arrivals += 1\n",
    "        if self.num_in_q == 0:                                \n",
    "            if self.state_T1==1:\n",
    "                self.num_in_q+=1\n",
    "                self.number_in_queue+=1\n",
    "                self.t_arrival=self.clock+self.gen_int_arr()\n",
    "            else:\n",
    "                self.state_T1=1\n",
    "                self.dep1= self.gen_service_time_server1()\n",
    "                self.dep_sum1 += self.dep1\n",
    "                self.t_departure1=self.clock + self.dep1\n",
    "                self.t_arrival=self.clock+self.gen_int_arr()\n",
    "        else:                         \n",
    "                self.t_arrival=self.clock+self.gen_int_arr()\n",
    "                self.num_in_q+=1 \n",
    "                self.number_in_queue+=1\n",
    "                \n",
    "\n",
    "    def server1(self):              \n",
    "        self.num_of_departures1 += 1\n",
    "        if self.num_in_q>0:\n",
    "            self.dep1= self.gen_service_time_server1()\n",
    "            self.dep_sum1 += self.dep1\n",
    "            self.t_departure1=self.clock + self.dep1\n",
    "            self.num_in_q-=1\n",
    "        else:\n",
    "            self.t_departure1=float('inf') \n",
    "            self.state_T1=0                  \n",
    "\n",
    "            \n",
    "    def gen_int_arr(self):                                            \n",
    "        return float(df.sample(1)['inter_arrival'])\n",
    "    \n",
    "    def gen_service_time_server1(self):                               \n",
    "        return float(df.sample(1)['service_time'])\n",
    "    "
   ]
  },
  {
   "cell_type": "code",
   "execution_count": 48,
   "metadata": {
    "tags": []
   },
   "outputs": [
    {
     "output_type": "stream",
     "name": "stdout",
     "text": "5.128906153120152\n11.469170395290568\n17.519136058248485\n26.1403706347866\n34.6090736485402\n44.66240954054871\n51.7596639642195\n57.6420108227905\n62.929273315563876\n67.65871741886444\n"
    }
   ],
   "source": [
    "sum = 0\n",
    "for i in range(10):\n",
    "    s=Simulation(df)\n",
    "    while s.num_arrivals <= 3000 :\n",
    "        s.time_adv()\n",
    "    sum+= s.total_wait_time/s.num_arrivals    \n",
    "    print(sum)\n",
    "total_time_10_simulations = sum / 10"
   ]
  },
  {
   "cell_type": "code",
   "execution_count": 49,
   "metadata": {
    "tags": []
   },
   "outputs": [
    {
     "output_type": "stream",
     "name": "stdout",
     "text": "Waiting time in Queue in a M/M/1 system is E[T_Q] = 1.0117026459940368 seconds.\nWaiting time in Queue in a G/G/1 system is W[T_Q] = 6.550551347672369 seconds.\nWaiting time in Queue from the Simulation G/G/1 : 6.7658717418864445\n"
    }
   ],
   "source": [
    "# APPROXIMATIONS USING FORMULAS.\n",
    "\n",
    "lambd = 1 / df['inter_arrival'].mean() \n",
    "mu = 1 / df['service_time'].mean()\n",
    "rho = lambd / mu\n",
    "\n",
    "E_TQ = rho / (mu - lambd)\n",
    "print('Waiting time in Queue in a M/M/1 system is E[T_Q] = {} seconds.'.format(E_TQ))\n",
    "t = 1 / mu\n",
    "\n",
    "cs =  df['service_time'].std() / df['service_time'].mean()\n",
    "ca = df['inter_arrival'].std() / df['inter_arrival'].mean()\n",
    "E_WQ = (rho/(1-rho)) * ((cs**2 + ca**2)/2) * t\n",
    "print('Waiting time in Queue in a G/G/1 system is W[T_Q] = {} seconds.'.format(E_WQ))\n",
    "\n",
    "print('Waiting time in Queue from the Simulation G/G/1 : {} seconds.'.format(total_time_10_simulations))"
   ]
  },
  {
   "cell_type": "code",
   "execution_count": null,
   "metadata": {},
   "outputs": [],
   "source": []
  }
 ],
 "metadata": {
  "kernelspec": {
   "display_name": "Python 3.6.9 64-bit",
   "language": "python",
   "name": "python36964bitd56927dbaa29478fb8f9f7be038644e4"
  },
  "language_info": {
   "codemirror_mode": {
    "name": "ipython",
    "version": 3
   },
   "file_extension": ".py",
   "mimetype": "text/x-python",
   "name": "python",
   "nbconvert_exporter": "python",
   "pygments_lexer": "ipython3",
   "version": "3.8.5-final"
  }
 },
 "nbformat": 4,
 "nbformat_minor": 4
}