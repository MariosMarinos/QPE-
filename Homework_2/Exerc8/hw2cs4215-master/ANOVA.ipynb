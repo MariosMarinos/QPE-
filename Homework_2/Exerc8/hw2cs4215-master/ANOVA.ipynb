{
 "cells": [
  {
   "cell_type": "code",
   "execution_count": 1,
   "metadata": {},
   "outputs": [],
   "source": [
    "# import the needed libraries.\n",
    "import pandas\n",
    "import researchpy as rp\n",
    "import seaborn as sns\n",
    "import numpy as np\n",
    "import pandas as pd\n",
    "\n",
    "import statsmodels.api as sm\n",
    "from statsmodels.formula.api import ols\n",
    "import statsmodels.stats.multicomp"
   ]
  },
  {
   "cell_type": "code",
   "execution_count": 2,
   "metadata": {},
   "outputs": [
    {
     "output_type": "execute_result",
     "data": {
      "text/plain": "    a  b  Q_bar  final_accuracy\n0   1  1    0.1       94.585000\n1   1  1    0.1       97.488999\n2   1  1    0.1       97.108001\n3   1  1    0.2       97.641001\n4   1  1    0.2       97.595000\n5   1  1    0.2       95.202000\n6   1  2    0.1       97.412000\n7   1  2    0.1       98.050000\n8   1  2    0.1       97.633000\n9   1  2    0.2       95.882000\n10  1  2    0.2       93.155000\n11  1  2    0.2       98.151000\n12  2  1    0.1       96.222000\n13  2  1    0.1       97.611000\n14  2  1    0.1       96.016001\n15  2  1    0.2       87.967000\n16  2  1    0.2       97.572001\n17  2  1    0.2       97.226000\n18  2  2    0.1       97.196000\n19  2  2    0.1       96.996000\n20  2  2    0.1       97.745001\n21  2  2    0.2       97.320000\n22  2  2    0.2       92.267001\n23  2  2    0.2       97.535000",
      "text/html": "<div>\n<style scoped>\n    .dataframe tbody tr th:only-of-type {\n        vertical-align: middle;\n    }\n\n    .dataframe tbody tr th {\n        vertical-align: top;\n    }\n\n    .dataframe thead th {\n        text-align: right;\n    }\n</style>\n<table border=\"1\" class=\"dataframe\">\n  <thead>\n    <tr style=\"text-align: right;\">\n      <th></th>\n      <th>a</th>\n      <th>b</th>\n      <th>Q_bar</th>\n      <th>final_accuracy</th>\n    </tr>\n  </thead>\n  <tbody>\n    <tr>\n      <th>0</th>\n      <td>1</td>\n      <td>1</td>\n      <td>0.1</td>\n      <td>94.585000</td>\n    </tr>\n    <tr>\n      <th>1</th>\n      <td>1</td>\n      <td>1</td>\n      <td>0.1</td>\n      <td>97.488999</td>\n    </tr>\n    <tr>\n      <th>2</th>\n      <td>1</td>\n      <td>1</td>\n      <td>0.1</td>\n      <td>97.108001</td>\n    </tr>\n    <tr>\n      <th>3</th>\n      <td>1</td>\n      <td>1</td>\n      <td>0.2</td>\n      <td>97.641001</td>\n    </tr>\n    <tr>\n      <th>4</th>\n      <td>1</td>\n      <td>1</td>\n      <td>0.2</td>\n      <td>97.595000</td>\n    </tr>\n    <tr>\n      <th>5</th>\n      <td>1</td>\n      <td>1</td>\n      <td>0.2</td>\n      <td>95.202000</td>\n    </tr>\n    <tr>\n      <th>6</th>\n      <td>1</td>\n      <td>2</td>\n      <td>0.1</td>\n      <td>97.412000</td>\n    </tr>\n    <tr>\n      <th>7</th>\n      <td>1</td>\n      <td>2</td>\n      <td>0.1</td>\n      <td>98.050000</td>\n    </tr>\n    <tr>\n      <th>8</th>\n      <td>1</td>\n      <td>2</td>\n      <td>0.1</td>\n      <td>97.633000</td>\n    </tr>\n    <tr>\n      <th>9</th>\n      <td>1</td>\n      <td>2</td>\n      <td>0.2</td>\n      <td>95.882000</td>\n    </tr>\n    <tr>\n      <th>10</th>\n      <td>1</td>\n      <td>2</td>\n      <td>0.2</td>\n      <td>93.155000</td>\n    </tr>\n    <tr>\n      <th>11</th>\n      <td>1</td>\n      <td>2</td>\n      <td>0.2</td>\n      <td>98.151000</td>\n    </tr>\n    <tr>\n      <th>12</th>\n      <td>2</td>\n      <td>1</td>\n      <td>0.1</td>\n      <td>96.222000</td>\n    </tr>\n    <tr>\n      <th>13</th>\n      <td>2</td>\n      <td>1</td>\n      <td>0.1</td>\n      <td>97.611000</td>\n    </tr>\n    <tr>\n      <th>14</th>\n      <td>2</td>\n      <td>1</td>\n      <td>0.1</td>\n      <td>96.016001</td>\n    </tr>\n    <tr>\n      <th>15</th>\n      <td>2</td>\n      <td>1</td>\n      <td>0.2</td>\n      <td>87.967000</td>\n    </tr>\n    <tr>\n      <th>16</th>\n      <td>2</td>\n      <td>1</td>\n      <td>0.2</td>\n      <td>97.572001</td>\n    </tr>\n    <tr>\n      <th>17</th>\n      <td>2</td>\n      <td>1</td>\n      <td>0.2</td>\n      <td>97.226000</td>\n    </tr>\n    <tr>\n      <th>18</th>\n      <td>2</td>\n      <td>2</td>\n      <td>0.1</td>\n      <td>97.196000</td>\n    </tr>\n    <tr>\n      <th>19</th>\n      <td>2</td>\n      <td>2</td>\n      <td>0.1</td>\n      <td>96.996000</td>\n    </tr>\n    <tr>\n      <th>20</th>\n      <td>2</td>\n      <td>2</td>\n      <td>0.1</td>\n      <td>97.745001</td>\n    </tr>\n    <tr>\n      <th>21</th>\n      <td>2</td>\n      <td>2</td>\n      <td>0.2</td>\n      <td>97.320000</td>\n    </tr>\n    <tr>\n      <th>22</th>\n      <td>2</td>\n      <td>2</td>\n      <td>0.2</td>\n      <td>92.267001</td>\n    </tr>\n    <tr>\n      <th>23</th>\n      <td>2</td>\n      <td>2</td>\n      <td>0.2</td>\n      <td>97.535000</td>\n    </tr>\n  </tbody>\n</table>\n</div>"
     },
     "metadata": {},
     "execution_count": 2
    }
   ],
   "source": [
    "df = pd.read_csv('results.csv', sep = '\\t')\n",
    "df = df.set_index('Unnamed: 0')\n",
    "# remove the name of Indexing.\n",
    "df.index.name = None\n",
    "#make the accuracy * 100.\n",
    "df['final_accuracy'] = df['final_accuracy']*100\n",
    "df\n"
   ]
  },
  {
   "cell_type": "code",
   "execution_count": 3,
   "metadata": {
    "tags": []
   },
   "outputs": [
    {
     "output_type": "stream",
     "name": "stdout",
     "text": "\n\n"
    },
    {
     "output_type": "execute_result",
     "data": {
      "text/plain": "           N     Mean      SD      SE  95% Conf.  Interval\na b Q_bar                                                 \n1 1 0.1    3  96.3940  1.5782  0.9112    92.4736  100.3144\n    0.2    3  96.8127  1.3951  0.8054    93.3471  100.2782\n  2 0.1    3  97.6983  0.3240  0.1870    96.8935   98.5031\n    0.2    3  95.7293  2.5015  1.4442    89.5153  101.9434\n2 1 0.1    3  96.6163  0.8675  0.5009    94.4612   98.7714\n    0.2    3  94.2550  5.4483  3.1456    80.7206  107.7894\n  2 0.1    3  97.3123  0.3878  0.2239    96.3489   98.2757\n    0.2    3  95.7073  2.9814  1.7213    88.3012  103.1134",
      "text/html": "<div>\n<style scoped>\n    .dataframe tbody tr th:only-of-type {\n        vertical-align: middle;\n    }\n\n    .dataframe tbody tr th {\n        vertical-align: top;\n    }\n\n    .dataframe thead th {\n        text-align: right;\n    }\n</style>\n<table border=\"1\" class=\"dataframe\">\n  <thead>\n    <tr style=\"text-align: right;\">\n      <th></th>\n      <th></th>\n      <th></th>\n      <th>N</th>\n      <th>Mean</th>\n      <th>SD</th>\n      <th>SE</th>\n      <th>95% Conf.</th>\n      <th>Interval</th>\n    </tr>\n    <tr>\n      <th>a</th>\n      <th>b</th>\n      <th>Q_bar</th>\n      <th></th>\n      <th></th>\n      <th></th>\n      <th></th>\n      <th></th>\n      <th></th>\n    </tr>\n  </thead>\n  <tbody>\n    <tr>\n      <th rowspan=\"4\" valign=\"top\">1</th>\n      <th rowspan=\"2\" valign=\"top\">1</th>\n      <th>0.1</th>\n      <td>3</td>\n      <td>96.3940</td>\n      <td>1.5782</td>\n      <td>0.9112</td>\n      <td>92.4736</td>\n      <td>100.3144</td>\n    </tr>\n    <tr>\n      <th>0.2</th>\n      <td>3</td>\n      <td>96.8127</td>\n      <td>1.3951</td>\n      <td>0.8054</td>\n      <td>93.3471</td>\n      <td>100.2782</td>\n    </tr>\n    <tr>\n      <th rowspan=\"2\" valign=\"top\">2</th>\n      <th>0.1</th>\n      <td>3</td>\n      <td>97.6983</td>\n      <td>0.3240</td>\n      <td>0.1870</td>\n      <td>96.8935</td>\n      <td>98.5031</td>\n    </tr>\n    <tr>\n      <th>0.2</th>\n      <td>3</td>\n      <td>95.7293</td>\n      <td>2.5015</td>\n      <td>1.4442</td>\n      <td>89.5153</td>\n      <td>101.9434</td>\n    </tr>\n    <tr>\n      <th rowspan=\"4\" valign=\"top\">2</th>\n      <th rowspan=\"2\" valign=\"top\">1</th>\n      <th>0.1</th>\n      <td>3</td>\n      <td>96.6163</td>\n      <td>0.8675</td>\n      <td>0.5009</td>\n      <td>94.4612</td>\n      <td>98.7714</td>\n    </tr>\n    <tr>\n      <th>0.2</th>\n      <td>3</td>\n      <td>94.2550</td>\n      <td>5.4483</td>\n      <td>3.1456</td>\n      <td>80.7206</td>\n      <td>107.7894</td>\n    </tr>\n    <tr>\n      <th rowspan=\"2\" valign=\"top\">2</th>\n      <th>0.1</th>\n      <td>3</td>\n      <td>97.3123</td>\n      <td>0.3878</td>\n      <td>0.2239</td>\n      <td>96.3489</td>\n      <td>98.2757</td>\n    </tr>\n    <tr>\n      <th>0.2</th>\n      <td>3</td>\n      <td>95.7073</td>\n      <td>2.9814</td>\n      <td>1.7213</td>\n      <td>88.3012</td>\n      <td>103.1134</td>\n    </tr>\n  </tbody>\n</table>\n</div>"
     },
     "metadata": {},
     "execution_count": 3
    }
   ],
   "source": [
    "rp.summary_cont(df.groupby(['a', 'b','Q_bar']))['final_accuracy']\n",
    "#Sd = standard deviation, SE standard error."
   ]
  },
  {
   "cell_type": "code",
   "execution_count": 4,
   "metadata": {
    "tags": []
   },
   "outputs": [
    {
     "output_type": "stream",
     "name": "stdout",
     "text": "Overall model F( 7, 16) =  0.560, p =  0.7774\n"
    }
   ],
   "source": [
    "# Running Ols to find the anova model afterwards.\n",
    "model = ols('final_accuracy ~ C(a)*C(b)*C(Q_bar)', df).fit()\n",
    "\n",
    "# Seeing if the overall model is significant\n",
    "print(f\"Overall model F({model.df_model: .0f},{model.df_resid: .0f}) = {model.fvalue: .3f}, p = {model.f_pvalue: .4f}\")"
   ]
  },
  {
   "cell_type": "code",
   "execution_count": 5,
   "metadata": {},
   "outputs": [
    {
     "output_type": "execute_result",
     "data": {
      "text/plain": "<class 'statsmodels.iolib.summary.Summary'>\n\"\"\"\n                            OLS Regression Results                            \n==============================================================================\nDep. Variable:         final_accuracy   R-squared:                       0.197\nModel:                            OLS   Adj. R-squared:                 -0.155\nMethod:                 Least Squares   F-statistic:                    0.5598\nDate:                Thu, 15 Oct 2020   Prob (F-statistic):              0.777\nTime:                        19:00:53   Log-Likelihood:                -51.246\nNo. Observations:                  24   AIC:                             118.5\nDf Residuals:                      16   BIC:                             127.9\nDf Model:                           7                                         \nCovariance Type:            nonrobust                                         \n=======================================================================================================\n                                          coef    std err          t      P>|t|      [0.025      0.975]\n-------------------------------------------------------------------------------------------------------\nIntercept                              96.3940      1.447     66.601      0.000      93.326      99.462\nC(a)[T.2]                               0.2223      2.047      0.109      0.915      -4.117       4.561\nC(b)[T.2]                               1.3043      2.047      0.637      0.533      -3.035       5.643\nC(Q_bar)[T.0.2]                         0.4187      2.047      0.205      0.841      -3.920       4.758\nC(a)[T.2]:C(b)[T.2]                    -0.6083      2.895     -0.210      0.836      -6.745       5.528\nC(a)[T.2]:C(Q_bar)[T.0.2]              -2.7800      2.895     -0.960      0.351      -8.916       3.356\nC(b)[T.2]:C(Q_bar)[T.0.2]              -2.3877      2.895     -0.825      0.422      -8.524       3.749\nC(a)[T.2]:C(b)[T.2]:C(Q_bar)[T.0.2]     3.1440      4.094      0.768      0.454      -5.534      11.822\n==============================================================================\nOmnibus:                        9.874   Durbin-Watson:                   2.497\nProb(Omnibus):                  0.007   Jarque-Bera (JB):                8.035\nSkew:                          -1.097   Prob(JB):                       0.0180\nKurtosis:                       4.795   Cond. No.                         17.9\n==============================================================================\n\nNotes:\n[1] Standard Errors assume that the covariance matrix of the errors is correctly specified.\n\"\"\"",
      "text/html": "<table class=\"simpletable\">\n<caption>OLS Regression Results</caption>\n<tr>\n  <th>Dep. Variable:</th>     <td>final_accuracy</td>  <th>  R-squared:         </th> <td>   0.197</td>\n</tr>\n<tr>\n  <th>Model:</th>                   <td>OLS</td>       <th>  Adj. R-squared:    </th> <td>  -0.155</td>\n</tr>\n<tr>\n  <th>Method:</th>             <td>Least Squares</td>  <th>  F-statistic:       </th> <td>  0.5598</td>\n</tr>\n<tr>\n  <th>Date:</th>             <td>Thu, 15 Oct 2020</td> <th>  Prob (F-statistic):</th>  <td> 0.777</td> \n</tr>\n<tr>\n  <th>Time:</th>                 <td>19:00:53</td>     <th>  Log-Likelihood:    </th> <td> -51.246</td>\n</tr>\n<tr>\n  <th>No. Observations:</th>      <td>    24</td>      <th>  AIC:               </th> <td>   118.5</td>\n</tr>\n<tr>\n  <th>Df Residuals:</th>          <td>    16</td>      <th>  BIC:               </th> <td>   127.9</td>\n</tr>\n<tr>\n  <th>Df Model:</th>              <td>     7</td>      <th>                     </th>     <td> </td>   \n</tr>\n<tr>\n  <th>Covariance Type:</th>      <td>nonrobust</td>    <th>                     </th>     <td> </td>   \n</tr>\n</table>\n<table class=\"simpletable\">\n<tr>\n                   <td></td>                      <th>coef</th>     <th>std err</th>      <th>t</th>      <th>P>|t|</th>  <th>[0.025</th>    <th>0.975]</th>  \n</tr>\n<tr>\n  <th>Intercept</th>                           <td>   96.3940</td> <td>    1.447</td> <td>   66.601</td> <td> 0.000</td> <td>   93.326</td> <td>   99.462</td>\n</tr>\n<tr>\n  <th>C(a)[T.2]</th>                           <td>    0.2223</td> <td>    2.047</td> <td>    0.109</td> <td> 0.915</td> <td>   -4.117</td> <td>    4.561</td>\n</tr>\n<tr>\n  <th>C(b)[T.2]</th>                           <td>    1.3043</td> <td>    2.047</td> <td>    0.637</td> <td> 0.533</td> <td>   -3.035</td> <td>    5.643</td>\n</tr>\n<tr>\n  <th>C(Q_bar)[T.0.2]</th>                     <td>    0.4187</td> <td>    2.047</td> <td>    0.205</td> <td> 0.841</td> <td>   -3.920</td> <td>    4.758</td>\n</tr>\n<tr>\n  <th>C(a)[T.2]:C(b)[T.2]</th>                 <td>   -0.6083</td> <td>    2.895</td> <td>   -0.210</td> <td> 0.836</td> <td>   -6.745</td> <td>    5.528</td>\n</tr>\n<tr>\n  <th>C(a)[T.2]:C(Q_bar)[T.0.2]</th>           <td>   -2.7800</td> <td>    2.895</td> <td>   -0.960</td> <td> 0.351</td> <td>   -8.916</td> <td>    3.356</td>\n</tr>\n<tr>\n  <th>C(b)[T.2]:C(Q_bar)[T.0.2]</th>           <td>   -2.3877</td> <td>    2.895</td> <td>   -0.825</td> <td> 0.422</td> <td>   -8.524</td> <td>    3.749</td>\n</tr>\n<tr>\n  <th>C(a)[T.2]:C(b)[T.2]:C(Q_bar)[T.0.2]</th> <td>    3.1440</td> <td>    4.094</td> <td>    0.768</td> <td> 0.454</td> <td>   -5.534</td> <td>   11.822</td>\n</tr>\n</table>\n<table class=\"simpletable\">\n<tr>\n  <th>Omnibus:</th>       <td> 9.874</td> <th>  Durbin-Watson:     </th> <td>   2.497</td>\n</tr>\n<tr>\n  <th>Prob(Omnibus):</th> <td> 0.007</td> <th>  Jarque-Bera (JB):  </th> <td>   8.035</td>\n</tr>\n<tr>\n  <th>Skew:</th>          <td>-1.097</td> <th>  Prob(JB):          </th> <td>  0.0180</td>\n</tr>\n<tr>\n  <th>Kurtosis:</th>      <td> 4.795</td> <th>  Cond. No.          </th> <td>    17.9</td>\n</tr>\n</table><br/><br/>Notes:<br/>[1] Standard Errors assume that the covariance matrix of the errors is correctly specified."
     },
     "metadata": {},
     "execution_count": 5
    }
   ],
   "source": [
    "model.summary()"
   ]
  },
  {
   "cell_type": "code",
   "execution_count": 6,
   "metadata": {},
   "outputs": [
    {
     "output_type": "execute_result",
     "data": {
      "text/plain": "                        sum_sq    df         F    PR(>F)\nC(a)                  2.822203   1.0  0.449083  0.512328\nC(b)                  2.105154   1.0  0.334982  0.570798\nC(Q_bar)             11.412606   1.0  1.816030  0.196560\nC(a):C(b)             1.392981   1.0  0.221658  0.644134\nC(a):C(Q_bar)         2.188897   1.0  0.348308  0.563316\nC(b):C(Q_bar)         0.997969   1.0  0.158802  0.695530\nC(a):C(b):C(Q_bar)    3.706776   1.0  0.589841  0.453667\nResidual            100.549909  16.0       NaN       NaN",
      "text/html": "<div>\n<style scoped>\n    .dataframe tbody tr th:only-of-type {\n        vertical-align: middle;\n    }\n\n    .dataframe tbody tr th {\n        vertical-align: top;\n    }\n\n    .dataframe thead th {\n        text-align: right;\n    }\n</style>\n<table border=\"1\" class=\"dataframe\">\n  <thead>\n    <tr style=\"text-align: right;\">\n      <th></th>\n      <th>sum_sq</th>\n      <th>df</th>\n      <th>F</th>\n      <th>PR(&gt;F)</th>\n    </tr>\n  </thead>\n  <tbody>\n    <tr>\n      <th>C(a)</th>\n      <td>2.822203</td>\n      <td>1.0</td>\n      <td>0.449083</td>\n      <td>0.512328</td>\n    </tr>\n    <tr>\n      <th>C(b)</th>\n      <td>2.105154</td>\n      <td>1.0</td>\n      <td>0.334982</td>\n      <td>0.570798</td>\n    </tr>\n    <tr>\n      <th>C(Q_bar)</th>\n      <td>11.412606</td>\n      <td>1.0</td>\n      <td>1.816030</td>\n      <td>0.196560</td>\n    </tr>\n    <tr>\n      <th>C(a):C(b)</th>\n      <td>1.392981</td>\n      <td>1.0</td>\n      <td>0.221658</td>\n      <td>0.644134</td>\n    </tr>\n    <tr>\n      <th>C(a):C(Q_bar)</th>\n      <td>2.188897</td>\n      <td>1.0</td>\n      <td>0.348308</td>\n      <td>0.563316</td>\n    </tr>\n    <tr>\n      <th>C(b):C(Q_bar)</th>\n      <td>0.997969</td>\n      <td>1.0</td>\n      <td>0.158802</td>\n      <td>0.695530</td>\n    </tr>\n    <tr>\n      <th>C(a):C(b):C(Q_bar)</th>\n      <td>3.706776</td>\n      <td>1.0</td>\n      <td>0.589841</td>\n      <td>0.453667</td>\n    </tr>\n    <tr>\n      <th>Residual</th>\n      <td>100.549909</td>\n      <td>16.0</td>\n      <td>NaN</td>\n      <td>NaN</td>\n    </tr>\n  </tbody>\n</table>\n</div>"
     },
     "metadata": {},
     "execution_count": 6
    }
   ],
   "source": [
    "# Getting the final 3-way ANOVA table.\n",
    "res = sm.stats.anova_lm(model, typ= 2)\n",
    "res"
   ]
  },
  {
   "cell_type": "code",
   "execution_count": 7,
   "metadata": {},
   "outputs": [
    {
     "output_type": "execute_result",
     "data": {
      "text/plain": "                        sum_sq    df         F    PR(>F)  \\\nC(a)                  2.822203   1.0  0.449083  0.512328   \nC(b)                  2.105154   1.0  0.334982  0.570798   \nC(Q_bar)             11.412606   1.0  1.816030  0.196560   \nC(a):C(b)             1.392981   1.0  0.221658  0.644134   \nC(a):C(Q_bar)         2.188897   1.0  0.348308  0.563316   \nC(b):C(Q_bar)         0.997969   1.0  0.158802  0.695530   \nC(a):C(b):C(Q_bar)    3.706776   1.0  0.589841  0.453667   \nResidual            100.549909  16.0       NaN       NaN   \n\n                    Percentage_Variation_Explained  \nC(a)                                      2.254579  \nC(b)                                      1.681748  \nC(Q_bar)                                  9.117212  \nC(a):C(b)                                 1.112814  \nC(a):C(Q_bar)                             1.748649  \nC(b):C(Q_bar)                             0.797249  \nC(a):C(b):C(Q_bar)                        2.961240  \nResidual                                 80.326510  ",
      "text/html": "<div>\n<style scoped>\n    .dataframe tbody tr th:only-of-type {\n        vertical-align: middle;\n    }\n\n    .dataframe tbody tr th {\n        vertical-align: top;\n    }\n\n    .dataframe thead th {\n        text-align: right;\n    }\n</style>\n<table border=\"1\" class=\"dataframe\">\n  <thead>\n    <tr style=\"text-align: right;\">\n      <th></th>\n      <th>sum_sq</th>\n      <th>df</th>\n      <th>F</th>\n      <th>PR(&gt;F)</th>\n      <th>Percentage_Variation_Explained</th>\n    </tr>\n  </thead>\n  <tbody>\n    <tr>\n      <th>C(a)</th>\n      <td>2.822203</td>\n      <td>1.0</td>\n      <td>0.449083</td>\n      <td>0.512328</td>\n      <td>2.254579</td>\n    </tr>\n    <tr>\n      <th>C(b)</th>\n      <td>2.105154</td>\n      <td>1.0</td>\n      <td>0.334982</td>\n      <td>0.570798</td>\n      <td>1.681748</td>\n    </tr>\n    <tr>\n      <th>C(Q_bar)</th>\n      <td>11.412606</td>\n      <td>1.0</td>\n      <td>1.816030</td>\n      <td>0.196560</td>\n      <td>9.117212</td>\n    </tr>\n    <tr>\n      <th>C(a):C(b)</th>\n      <td>1.392981</td>\n      <td>1.0</td>\n      <td>0.221658</td>\n      <td>0.644134</td>\n      <td>1.112814</td>\n    </tr>\n    <tr>\n      <th>C(a):C(Q_bar)</th>\n      <td>2.188897</td>\n      <td>1.0</td>\n      <td>0.348308</td>\n      <td>0.563316</td>\n      <td>1.748649</td>\n    </tr>\n    <tr>\n      <th>C(b):C(Q_bar)</th>\n      <td>0.997969</td>\n      <td>1.0</td>\n      <td>0.158802</td>\n      <td>0.695530</td>\n      <td>0.797249</td>\n    </tr>\n    <tr>\n      <th>C(a):C(b):C(Q_bar)</th>\n      <td>3.706776</td>\n      <td>1.0</td>\n      <td>0.589841</td>\n      <td>0.453667</td>\n      <td>2.961240</td>\n    </tr>\n    <tr>\n      <th>Residual</th>\n      <td>100.549909</td>\n      <td>16.0</td>\n      <td>NaN</td>\n      <td>NaN</td>\n      <td>80.326510</td>\n    </tr>\n  </tbody>\n</table>\n</div>"
     },
     "metadata": {},
     "execution_count": 7
    }
   ],
   "source": [
    "Sum_Square_Error = res['sum_sq'].sum()\n",
    "res['Percentage_Variation_Explained'] = (res['sum_sq'] / Sum_Square_Error) * 100\n",
    "res"
   ]
  }
 ],
 "metadata": {
  "kernelspec": {
   "display_name": "Python 3",
   "language": "python",
   "name": "python3"
  },
  "language_info": {
   "codemirror_mode": {
    "name": "ipython",
    "version": 3
   },
   "file_extension": ".py",
   "mimetype": "text/x-python",
   "name": "python",
   "nbconvert_exporter": "python",
   "pygments_lexer": "ipython3",
   "version": "3.8.5-final"
  }
 },
 "nbformat": 4,
 "nbformat_minor": 4
}